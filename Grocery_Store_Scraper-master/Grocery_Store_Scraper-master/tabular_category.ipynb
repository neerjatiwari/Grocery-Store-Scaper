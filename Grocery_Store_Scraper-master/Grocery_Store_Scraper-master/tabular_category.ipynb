{
 "cells": [
  {
   "cell_type": "code",
   "execution_count": null,
   "metadata": {},
   "outputs": [],
   "source": [
    "import json\n",
    "import csv\n",
    "import shlex\n",
    "import pandas as pd\n",
    "with open('links.txt') as csv_file:\n",
    "    csv_reader = csv.reader(csv_file, delimiter=',')\n",
    "    final_links = []\n",
    "    for i, link in enumerate(csv_reader):\n",
    "        links = str(link)\n",
    "        #[links.split('/', 100)[0] for link in links]\n",
    "        linksx = str.split(links, '/')\n",
    "        #print(linksx)\n",
    "        #[linksx.split('/pc/', 100)[0] for link in linksx]\n",
    "        #print(linksx)\n",
    "        final_links.append(linksx)\n",
    "final_links.pop(0)\n",
    "#print(final_links)\n",
    "df=pd.DataFrame(final_links,columns=['S.No', 'Des','Main', 'Sub', 'Sub-Sub','Link Type'])\n",
    "del df['S.No']\n",
    "del df['Link Type']\n",
    "del df['Des']\n",
    "df[\"Sub-Sub\"].replace({\"']\": \"None\", \"?nc=cs']\": \"None\"}, inplace=True)\n",
    "df\n",
    "#df.to_csv('bigbasket_data_tabular.csv', index = False)\n",
    "# from tabulate import tabulate\n",
    "# pretty_link = tabulate(df, headers=['S.No', 'Des','Main', 'Sub', 'Sub-Sub','Link Type'])\n",
    "# print(pretty_link)"
   ]
  },
  {
   "cell_type": "code",
   "execution_count": null,
   "metadata": {},
   "outputs": [],
   "source": []
  }
 ],
 "metadata": {
  "kernelspec": {
   "display_name": "Python 3",
   "language": "python",
   "name": "python3"
  },
  "language_info": {
   "codemirror_mode": {
    "name": "ipython",
    "version": 3
   },
   "file_extension": ".py",
   "mimetype": "text/x-python",
   "name": "python",
   "nbconvert_exporter": "python",
   "pygments_lexer": "ipython3",
   "version": "3.6.6"
  }
 },
 "nbformat": 4,
 "nbformat_minor": 4
}
